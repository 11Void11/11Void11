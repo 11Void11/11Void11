{
 "cells": [
  {
   "cell_type": "markdown",
   "id": "a2db580d",
   "metadata": {
    "id": "jkxRSYjzA1oX",
    "papermill": {
     "duration": 0.013614,
     "end_time": "2025-03-31T15:55:01.359822",
     "exception": false,
     "start_time": "2025-03-31T15:55:01.346208",
     "status": "completed"
    },
    "tags": []
   },
   "source": [
    "##### Copyright 2025 Google LLC."
   ]
  },
  {
   "cell_type": "code",
   "execution_count": 1,
   "id": "d184d824",
   "metadata": {
    "cellView": "form",
    "execution": {
     "iopub.execute_input": "2025-03-31T15:55:01.389633Z",
     "iopub.status.busy": "2025-03-31T15:55:01.389102Z",
     "iopub.status.idle": "2025-03-31T15:55:01.395620Z",
     "shell.execute_reply": "2025-03-31T15:55:01.394358Z"
    },
    "id": "5u5OZ2ShA3BA",
    "jupyter": {
     "source_hidden": true
    },
    "papermill": {
     "duration": 0.024717,
     "end_time": "2025-03-31T15:55:01.397924",
     "exception": false,
     "start_time": "2025-03-31T15:55:01.373207",
     "status": "completed"
    },
    "tags": []
   },
   "outputs": [],
   "source": [
    "# @title Licensed under the Apache License, Version 2.0 (the \"License\");\n",
    "# you may not use this file except in compliance with the License.\n",
    "# You may obtain a copy of the License at\n",
    "#\n",
    "# https://www.apache.org/licenses/LICENSE-2.0\n",
    "#\n",
    "# Unless required by applicable law or agreed to in writing, software\n",
    "# distributed under the License is distributed on an \"AS IS\" BASIS,\n",
    "# WITHOUT WARRANTIES OR CONDITIONS OF ANY KIND, either express or implied.\n",
    "# See the License for the specific language governing permissions and\n",
    "# limitations under the License."
   ]
  },
  {
   "cell_type": "markdown",
   "id": "08562fb0",
   "metadata": {
    "id": "csNPnkuCobmG",
    "papermill": {
     "duration": 0.012307,
     "end_time": "2025-03-31T15:55:01.422991",
     "exception": false,
     "start_time": "2025-03-31T15:55:01.410684",
     "status": "completed"
    },
    "tags": []
   },
   "source": [
    "# Day 1 - Prompting\n",
    "\n",
    "Welcome to the Kaggle 5-day Generative AI course!\n",
    "\n",
    "This notebook will show you how to get started with the Gemini API and walk you through some of the example prompts and techniques that you can also read about in the Prompting whitepaper. You don't need to read the whitepaper to use this notebook, but the papers will give you some theoretical context and background to complement this interactive notebook.\n",
    "\n",
    "\n",
    "## Before you begin\n",
    "\n",
    "In this notebook, you'll start exploring prompting using the Python SDK and AI Studio. For some inspiration, you might enjoy exploring some apps that have been built using the Gemini family of models. Here are a few that we like, and we think you will too.\n",
    "\n",
    "* [TextFX](https://textfx.withgoogle.com/) is a suite of AI-powered tools for rappers, made in collaboration with Lupe Fiasco,\n",
    "* [SQL Talk](https://sql-talk-r5gdynozbq-uc.a.run.app/) shows how you can talk directly to a database using the Gemini API,\n",
    "* [NotebookLM](https://notebooklm.google/) uses Gemini models to build your own personal AI research assistant.\n",
    "\n",
    "\n",
    "## For help\n",
    "\n",
    "**Common issues are covered in the [FAQ and troubleshooting guide](https://www.kaggle.com/code/markishere/day-0-troubleshooting-and-faqs).**\n",
    "\n",
    "## New for Gemini 2.0!\n",
    "\n",
    "This course material was first launched in November 2024. The AI and LLM space is moving incredibly fast, so we have made some updates to use the latest models and capabilities.\n",
    "\n",
    "* These codelabs have been updated to use the Gemini 2.0 family of models.\n",
    "* The Python SDK has been updated from `google-generativeai` to the new, unified [`google-genai`](https://pypi.org/project/google-genai) SDK.\n",
    "  * This new SDK works with both the developer Gemini API as well as Google Cloud Vertex AI, and switching is [as simple as changing some fields](https://pypi.org/project/google-genai/#:~:text=.Client%28%29-,API%20Selection,-By%20default%2C%20the).\n",
    "* New model capabilities have been added to the relevant codelabs, such as \"thinking mode\" in this lab.\n",
    "* Day 1 includes a new [Evaluation codelab](https://www.kaggle.com/code/markishere/day-1-evaluation-and-structured-output)."
   ]
  },
  {
   "attachments": {
    "d8299597-f771-4195-ac94-1d6f658ef2bd.png": {
     "image/png": "[encoded data removed]"
    },
    "ed25e346-2e15-4ab0-bc22-503eb1845e66.png": {
     "image/png": "[encoded data removed]"
    }
   },
   "cell_type": "markdown",
   "id": "123b221d",
   "metadata": {
    "id": "f00ea7c99e44",
    "papermill": {
     "duration": 0.012353,
     "end_time": "2025-03-31T15:55:01.447875",
     "exception": false,
     "start_time": "2025-03-31T15:55:01.435522",
     "status": "completed"
    },
    "tags": []
   },
   "source": [
    "## Get started with Kaggle notebooks\n",
    "\n",
    "If this is your first time using a Kaggle notebook, welcome! You can read about how to use Kaggle notebooks [in the docs](https://www.kaggle.com/docs/notebooks).\n",
    "\n",
    "First, you will need to phone verify your account at kaggle.com/settings.\n",
    "\n",
    "![](https://storage.googleapis.com/kaggle-media/Images/5dgai_0.png)"
   ]
  },
  {
   "cell_type": "markdown",
   "id": "6dd7a57f",
   "metadata": {
    "papermill": {
     "duration": 0.01278,
     "end_time": "2025-03-31T15:55:01.474175",
     "exception": false,
     "start_time": "2025-03-31T15:55:01.461395",
     "status": "completed"
    },
    "tags": []
   },
   "source": [
    "To run this notebook, as well as the others in this course, you will need to make a copy, or fork, the notebook. Look for the `Copy and Edit` button in the top-right, and **click it** to make an editable, private copy of the notebook. It should look like this one:\n",
    "\n",
    "![Copy and Edit button](https://storage.googleapis.com/kaggle-media/Images/5gdai_sc_1.png)\n",
    "\n",
    "Your copy will now have a ▶️ **Run** button next to each code cell that you can press to execute that cell. These notebooks are expected to be run in order from top-to-bottom, but you are encouraged to add new cells, run your own code and explore. If you get stuck, you can try the `Factory reset` option in the `Run` menu, or head back to the original notebook and make a fresh copy.\n",
    "\n",
    "![Run cell button](https://storage.googleapis.com/kaggle-media/Images/5gdai_sc_2.png)\n",
    "\n",
    "### Problems?\n",
    "\n",
    "If you have any problems, head over to the [Kaggle Discord](https://discord.com/invite/kaggle), find the [`#5dgai-q-and-a` channel](https://discord.com/channels/1101210829807956100/1303438695143178251) and ask for help."
   ]
  },
  {
   "cell_type": "markdown",
   "id": "f3450183",
   "metadata": {
    "id": "ExkOXcPxtTb5",
    "papermill": {
     "duration": 0.013168,
     "end_time": "2025-03-31T15:55:01.500568",
     "exception": false,
     "start_time": "2025-03-31T15:55:01.487400",
     "status": "completed"
    },
    "tags": []
   },
   "source": [
    "## Get started with the Gemini API\n",
    "\n",
    "All of the exercises in this notebook will use the [Gemini API](https://ai.google.dev/gemini-api/) by way of the [Python SDK](https://pypi.org/project/google-genai/). Each of these prompts can be accessed directly in [Google AI Studio](https://aistudio.google.com/) too, so if you would rather use a web interface and skip the code for this activity, look for the <img src=\"https://ai.google.dev/site-assets/images/marketing/home/icon-ais.png\" style=\"height: 24px\" height=24/> AI Studio link on each prompt."
   ]
  },
  {
   "cell_type": "markdown",
   "id": "b4242277",
   "metadata": {
    "papermill": {
     "duration": 0.013735,
     "end_time": "2025-03-31T15:55:01.527423",
     "exception": false,
     "start_time": "2025-03-31T15:55:01.513688",
     "status": "completed"
    },
    "tags": []
   },
   "source": [
    "Next, you will need to add your API key to your Kaggle Notebook as a Kaggle User Secret.\n",
    "\n",
    "![](https://storage.googleapis.com/kaggle-media/Images/5dgai_1.png)\n",
    "![](https://storage.googleapis.com/kaggle-media/Images/5dgai_2.png)\n",
    "![](https://storage.googleapis.com/kaggle-media/Images/5dgai_3.png)\n",
    "![](https://storage.googleapis.com/kaggle-media/Images/5dgai_4.png)"
   ]
  },
  {
   "cell_type": "markdown",
   "id": "774e6c43",
   "metadata": {
    "id": "UAjUV3BsvFXQ",
    "papermill": {
     "duration": 0.012487,
     "end_time": "2025-03-31T15:55:01.552201",
     "exception": false,
     "start_time": "2025-03-31T15:55:01.539714",
     "status": "completed"
    },
    "tags": []
   },
   "source": [
    "### Install the SDK"
   ]
  },
  {
   "cell_type": "code",
   "execution_count": 2,
   "id": "cdd1fb40",
   "metadata": {
    "execution": {
     "iopub.execute_input": "2025-03-31T15:55:01.580226Z",
     "iopub.status.busy": "2025-03-31T15:55:01.579822Z",
     "iopub.status.idle": "2025-03-31T15:55:22.611064Z",
     "shell.execute_reply": "2025-03-31T15:55:22.609521Z"
    },
    "id": "NzwzJFU9LqkJ",
    "papermill": {
     "duration": 21.048534,
     "end_time": "2025-03-31T15:55:22.613688",
     "exception": false,
     "start_time": "2025-03-31T15:55:01.565154",
     "status": "completed"
    },
    "tags": []
   },
   "outputs": [],
   "source": [
    "!pip uninstall -qqy jupyterlab  # Remove unused packages from Kaggle's base image that conflict\n",
    "!pip install -U -q \"google-genai==1.7.0\""
   ]
  },
  {
   "cell_type": "markdown",
   "id": "bc8f3d87",
   "metadata": {
    "papermill": {
     "duration": 0.01408,
     "end_time": "2025-03-31T15:55:22.649183",
     "exception": false,
     "start_time": "2025-03-31T15:55:22.635103",
     "status": "completed"
    },
    "tags": []
   },
   "source": [
    "Import the SDK and some helpers for rendering the output."
   ]
  },
  {
   "cell_type": "code",
   "execution_count": 3,
   "id": "20942ce5",
   "metadata": {
    "execution": {
     "iopub.execute_input": "2025-03-31T15:55:22.678147Z",
     "iopub.status.busy": "2025-03-31T15:55:22.677685Z",
     "iopub.status.idle": "2025-03-31T15:55:24.236403Z",
     "shell.execute_reply": "2025-03-31T15:55:24.234457Z"
    },
    "id": "5DwxYIRavMST",
    "papermill": {
     "duration": 1.577926,
     "end_time": "2025-03-31T15:55:24.239931",
     "exception": false,
     "start_time": "2025-03-31T15:55:22.662005",
     "status": "completed"
    },
    "tags": []
   },
   "outputs": [],
   "source": [
    "from google import genai\n",
    "from google.genai import types\n",
    "\n",
    "from IPython.display import HTML, Markdown, display"
   ]
  },
  {
   "cell_type": "markdown",
   "id": "20cf9970",
   "metadata": {
    "papermill": {
     "duration": 0.014172,
     "end_time": "2025-03-31T15:55:24.268339",
     "exception": false,
     "start_time": "2025-03-31T15:55:24.254167",
     "status": "completed"
    },
    "tags": []
   },
   "source": [
    "Set up a retry helper. This allows you to \"Run all\" without worrying about per-minute quota."
   ]
  },
  {
   "cell_type": "code",
   "execution_count": 4,
   "id": "127bfe88",
   "metadata": {
    "execution": {
     "iopub.execute_input": "2025-03-31T15:55:24.297404Z",
     "iopub.status.busy": "2025-03-31T15:55:24.296820Z",
     "iopub.status.idle": "2025-03-31T15:55:24.520570Z",
     "shell.execute_reply": "2025-03-31T15:55:24.519096Z"
    },
    "papermill": {
     "duration": 0.241397,
     "end_time": "2025-03-31T15:55:24.523473",
     "exception": false,
     "start_time": "2025-03-31T15:55:24.282076",
     "status": "completed"
    },
    "tags": []
   },
   "outputs": [],
   "source": [
    "from google.api_core import retry\n",
    "\n",
    "\n",
    "is_retriable = lambda e: (isinstance(e, genai.errors.APIError) and e.code in {429, 503})\n",
    "\n",
    "genai.models.Models.generate_content = retry.Retry(\n",
    "    predicate=is_retriable)(genai.models.Models.generate_content)"
   ]
  },
  {
   "cell_type": "markdown",
   "id": "96fe77e2",
   "metadata": {
    "id": "DNEt2BCOvOJ1",
    "papermill": {
     "duration": 0.014116,
     "end_time": "2025-03-31T15:55:24.550430",
     "exception": false,
     "start_time": "2025-03-31T15:55:24.536314",
     "status": "completed"
    },
    "tags": []
   },
   "source": [
    "### Set up your API key\n",
    "\n",
    "To run the following cell, your API key must be stored it in a [Kaggle secret](https://www.kaggle.com/discussions/product-feedback/114053) named `GOOGLE_API_KEY`.\n",
    "\n",
    "If you don't already have an API key, you can grab one from [AI Studio](https://aistudio.google.com/app/apikey). You can find [detailed instructions in the docs](https://ai.google.dev/gemini-api/docs/api-key).\n",
    "\n",
    "To make the key available through Kaggle secrets, choose `Secrets` from the `Add-ons` menu and follow the instructions to add your key or enable it for this notebook."
   ]
  },
  {
   "cell_type": "code",
   "execution_count": 5,
   "id": "1ec7a2f0",
   "metadata": {
    "execution": {
     "iopub.execute_input": "2025-03-31T15:55:24.578429Z",
     "iopub.status.busy": "2025-03-31T15:55:24.577871Z",
     "iopub.status.idle": "2025-03-31T15:55:24.706673Z",
     "shell.execute_reply": "2025-03-31T15:55:24.705778Z"
    },
    "id": "SHl0bkPCvayd",
    "papermill": {
     "duration": 0.146049,
     "end_time": "2025-03-31T15:55:24.709286",
     "exception": false,
     "start_time": "2025-03-31T15:55:24.563237",
     "status": "completed"
    },
    "tags": []
   },
   "outputs": [],
   "source": [
    "from kaggle_secrets import UserSecretsClient\n",
    "\n",
    "GOOGLE_API_KEY = UserSecretsClient().get_secret(\"GOOGLE_API_KEY\")"
   ]
  },
  {
   "attachments": {
    "d2be9aab-2527-48af-b6cf-1f06cdd7c3a7.png": {
     "image/png": "[encoded data removed]"
    }
   },
   "cell_type": "markdown",
   "id": "abfdb128",
   "metadata": {
    "id": "4e720472fd86",
    "papermill": {
     "duration": 0.012274,
     "end_time": "2025-03-31T15:55:24.736458",
     "exception": false,
     "start_time": "2025-03-31T15:55:24.724184",
     "status": "completed"
    },
    "tags": []
   },
   "source": [
    "If you received an error response along the lines of `No user secrets exist for kernel id ...`, then you need to add your API key via `Add-ons`, `Secrets` **and** enable it.\n",
    "\n",
    "![Screenshot of the checkbox to enable GOOGLE_API_KEY secret](https://storage.googleapis.com/kaggle-media/Images/5gdai_sc_3.png)"
   ]
  },
  {
   "cell_type": "markdown",
   "id": "e8de7a22",
   "metadata": {
    "id": "H_YXCYIKvyZJ",
    "papermill": {
     "duration": 0.012699,
     "end_time": "2025-03-31T15:55:24.761554",
     "exception": false,
     "start_time": "2025-03-31T15:55:24.748855",
     "status": "completed"
    },
    "tags": []
   },
   "source": [
    "### Run your first prompt\n",
    "\n",
    "In this step, you will test that your API key is set up correctly by making a request.\n",
    "\n",
    "The Python SDK uses a [`Client` object](https://googleapis.github.io/python-genai/genai.html#genai.client.Client) to make requests to the API. The client lets you control which back-end to use (between the Gemini API and Vertex AI) and handles authentication (the API key).\n",
    "\n",
    "The `gemini-2.0-flash` model has been selected here.\n",
    "\n",
    "**Note**: If you see a `TransportError` on this step, you may need to **🔁 Factory reset** the notebook one time."
   ]
  },
  {
   "cell_type": "code",
   "execution_count": 6,
   "id": "4f180aa5",
   "metadata": {
    "execution": {
     "iopub.execute_input": "2025-03-31T15:55:24.788058Z",
     "iopub.status.busy": "2025-03-31T15:55:24.787641Z",
     "iopub.status.idle": "2025-03-31T15:55:27.691909Z",
     "shell.execute_reply": "2025-03-31T15:55:27.690643Z"
    },
    "id": "BV1o0PmcvyJF",
    "papermill": {
     "duration": 2.920711,
     "end_time": "2025-03-31T15:55:27.694620",
     "exception": false,
     "start_time": "2025-03-31T15:55:24.773909",
     "status": "completed"
    },
    "tags": []
   },
   "outputs": [
    {
     "name": "stdout",
     "output_type": "stream",
     "text": [
      "Imagine you have a really smart robot friend. This robot isn't just good at doing what you tell it, like fetching a ball. This robot can *learn*!\n",
      "\n",
      "AI is like giving that robot a brain that can learn things, just like you do in school. \n",
      "\n",
      "**Here's how it works:**\n",
      "\n",
      "*   **Show it lots of examples:** Imagine you want the robot to know what a cat looks like. You show it pictures of hundreds, even thousands, of cats. The robot starts to see patterns – pointy ears, whiskers, a tail.\n",
      "*   **It learns the pattern:** The robot uses these patterns to learn what makes a cat a cat. It doesn't just memorize each picture; it figures out the *idea* of a cat.\n",
      "*   **It makes guesses:** Now, if you show it a brand new picture, even if it's a weirdly colored cat or a cat wearing a hat, the robot can guess if it's a cat based on what it's learned.\n",
      "*   **It gets better over time:** If it guesses wrong, you can tell it, \"No, that's actually a dog!\" Then, the robot learns from its mistake and gets even better at identifying cats.\n",
      "\n",
      "**So, AI is like teaching a computer or robot to:**\n",
      "\n",
      "*   See things (like pictures or videos)\n",
      "*   Hear things (like sounds or words)\n",
      "*   Understand things (like stories or questions)\n",
      "*   Make decisions (like choosing the best route to school)\n",
      "\n",
      "**You see AI everywhere!**\n",
      "\n",
      "*   When you ask Siri or Alexa a question.\n",
      "*   When Netflix recommends a movie you might like.\n",
      "*   When your video game opponents get smarter as you play.\n",
      "*   When your email filters out spam.\n",
      "\n",
      "AI is like a super-smart student who's always learning. It's helping us do lots of cool things, and it's only going to get smarter!\n",
      "\n",
      "**But remember:** AI is still learning, just like you. It's important to teach it good things and use it responsibly!\n",
      "\n"
     ]
    }
   ],
   "source": [
    "client = genai.Client(api_key=GOOGLE_API_KEY)\n",
    "\n",
    "response = client.models.generate_content(\n",
    "    model=\"gemini-2.0-flash\",\n",
    "    contents=\"Explain AI to me like I'm a kid.\")\n",
    "\n",
    "print(response.text)"
   ]
  },
  {
   "cell_type": "markdown",
   "id": "34e919bd",
   "metadata": {
    "id": "f60ed9d8ae41",
    "papermill": {
     "duration": 0.013326,
     "end_time": "2025-03-31T15:55:27.724075",
     "exception": false,
     "start_time": "2025-03-31T15:55:27.710749",
     "status": "completed"
    },
    "tags": []
   },
   "source": [
    "The response often comes back in markdown format, which you can render directly in this notebook."
   ]
  },
  {
   "cell_type": "code",
   "execution_count": 7,
   "id": "023e81c9",
   "metadata": {
    "execution": {
     "iopub.execute_input": "2025-03-31T15:55:27.753800Z",
     "iopub.status.busy": "2025-03-31T15:55:27.753411Z",
     "iopub.status.idle": "2025-03-31T15:55:27.762457Z",
     "shell.execute_reply": "2025-03-31T15:55:27.761197Z"
    },
    "id": "c933e5e460a5",
    "papermill": {
     "duration": 0.025847,
     "end_time": "2025-03-31T15:55:27.764937",
     "exception": false,
     "start_time": "2025-03-31T15:55:27.739090",
     "status": "completed"
    },
    "tags": []
   },
   "outputs": [
    {
     "data": {
      "text/markdown": [
       "Imagine you have a really smart robot friend. This robot isn't just good at doing what you tell it, like fetching a ball. This robot can *learn*!\n",
       "\n",
       "AI is like giving that robot a brain that can learn things, just like you do in school. \n",
       "\n",
       "**Here's how it works:**\n",
       "\n",
       "*   **Show it lots of examples:** Imagine you want the robot to know what a cat looks like. You show it pictures of hundreds, even thousands, of cats. The robot starts to see patterns – pointy ears, whiskers, a tail.\n",
       "*   **It learns the pattern:** The robot uses these patterns to learn what makes a cat a cat. It doesn't just memorize each picture; it figures out the *idea* of a cat.\n",
       "*   **It makes guesses:** Now, if you show it a brand new picture, even if it's a weirdly colored cat or a cat wearing a hat, the robot can guess if it's a cat based on what it's learned.\n",
       "*   **It gets better over time:** If it guesses wrong, you can tell it, \"No, that's actually a dog!\" Then, the robot learns from its mistake and gets even better at identifying cats.\n",
       "\n",
       "**So, AI is like teaching a computer or robot to:**\n",
       "\n",
       "*   See things (like pictures or videos)\n",
       "*   Hear things (like sounds or words)\n",
       "*   Understand things (like stories or questions)\n",
       "*   Make decisions (like choosing the best route to school)\n",
       "\n",
       "**You see AI everywhere!**\n",
       "\n",
       "*   When you ask Siri or Alexa a question.\n",
       "*   When Netflix recommends a movie you might like.\n",
       "*   When your video game opponents get smarter as you play.\n",
       "*   When your email filters out spam.\n",
       "\n",
       "AI is like a super-smart student who's always learning. It's helping us do lots of cool things, and it's only going to get smarter!\n",
       "\n",
       "**But remember:** AI is still learning, just like you. It's important to teach it good things and use it responsibly!\n"
      ],
      "text/plain": [
       "<IPython.core.display.Markdown object>"
      ]
     },
     "execution_count": 7,
     "metadata": {},
     "output_type": "execute_result"
    }
   ],
   "source": [
    "Markdown(response.text)"
   ]
  },
  {
   "cell_type": "markdown",
   "id": "fa1311c9",
   "metadata": {
    "id": "byx0pT9ZMW2Q",
    "papermill": {
     "duration": 0.012945,
     "end_time": "2025-03-31T15:55:27.791378",
     "exception": false,
     "start_time": "2025-03-31T15:55:27.778433",
     "status": "completed"
    },
    "tags": []
   },
   "source": [
    "### Start a chat\n",
    "\n",
    "The previous example uses a single-turn, text-in/text-out structure, but you can also set up a multi-turn chat structure too."
   ]
  },
  {
   "cell_type": "code",
   "execution_count": 8,
   "id": "847c7c41",
   "metadata": {
    "execution": {
     "iopub.execute_input": "2025-03-31T15:55:27.823148Z",
     "iopub.status.busy": "2025-03-31T15:55:27.822690Z",
     "iopub.status.idle": "2025-03-31T15:55:28.175333Z",
     "shell.execute_reply": "2025-03-31T15:55:28.173664Z"
    },
    "id": "lV_S5ZL5MidD",
    "papermill": {
     "duration": 0.372035,
     "end_time": "2025-03-31T15:55:28.178412",
     "exception": false,
     "start_time": "2025-03-31T15:55:27.806377",
     "status": "completed"
    },
    "tags": []
   },
   "outputs": [
    {
     "name": "stdout",
     "output_type": "stream",
     "text": [
      "Hello Vaishnav! It's nice to meet you. Is there anything I can help you with today?\n",
      "\n"
     ]
    }
   ],
   "source": [
    "chat = client.chats.create(model='gemini-2.0-flash', history=[])\n",
    "response = chat.send_message('Hello! My name is Vaishnav.')\n",
    "print(response.text)"
   ]
  },
  {
   "cell_type": "code",
   "execution_count": 9,
   "id": "6e4c7a09",
   "metadata": {
    "execution": {
     "iopub.execute_input": "2025-03-31T15:55:28.213214Z",
     "iopub.status.busy": "2025-03-31T15:55:28.212756Z",
     "iopub.status.idle": "2025-03-31T15:55:29.544455Z",
     "shell.execute_reply": "2025-03-31T15:55:29.542645Z"
    },
    "id": "7b0372c3c64a",
    "papermill": {
     "duration": 1.353717,
     "end_time": "2025-03-31T15:55:29.548064",
     "exception": false,
     "start_time": "2025-03-31T15:55:28.194347",
     "status": "completed"
    },
    "tags": []
   },
   "outputs": [
    {
     "name": "stdout",
     "output_type": "stream",
     "text": [
      "Okay, here's a fun fact about dinosaurs you might find interesting:\n",
      "\n",
      "**Did you know that some dinosaurs had feathers, even though they weren't birds?**\n",
      "\n",
      "It's a common misconception that all dinosaurs were scaly like reptiles.  Evidence from fossil discoveries in recent decades shows that many theropods (the group that includes T. Rex and Velociraptor) had feathers. These feathers weren't necessarily for flight; they likely served purposes like insulation, display, or even camouflage.\n",
      "\n",
      "In fact, some scientists believe that all theropods may have had some kind of feathery covering at some point in their lives. It's a really fascinating example of how our understanding of dinosaurs is constantly evolving as we find more evidence!\n",
      "\n",
      "Is there anything else about dinosaurs you'd like to know?\n",
      "\n"
     ]
    }
   ],
   "source": [
    "response = chat.send_message('Can you tell me something interesting about dinosaurs?')\n",
    "print(response.text)"
   ]
  },
  {
   "cell_type": "markdown",
   "id": "1f35f7e6",
   "metadata": {
    "papermill": {
     "duration": 0.014234,
     "end_time": "2025-03-31T15:55:29.575839",
     "exception": false,
     "start_time": "2025-03-31T15:55:29.561605",
     "status": "completed"
    },
    "tags": []
   },
   "source": [
    "While you have the `chat` object alive, the conversation state\n",
    "persists. Confirm that by asking if it knows the user's name."
   ]
  },
  {
   "cell_type": "code",
   "execution_count": 10,
   "id": "04d97ba2",
   "metadata": {
    "execution": {
     "iopub.execute_input": "2025-03-31T15:55:29.603331Z",
     "iopub.status.busy": "2025-03-31T15:55:29.602890Z",
     "iopub.status.idle": "2025-03-31T15:55:29.955626Z",
     "shell.execute_reply": "2025-03-31T15:55:29.954452Z"
    },
    "id": "d3f9591392a7",
    "papermill": {
     "duration": 0.369688,
     "end_time": "2025-03-31T15:55:29.958568",
     "exception": false,
     "start_time": "2025-03-31T15:55:29.588880",
     "status": "completed"
    },
    "tags": []
   },
   "outputs": [
    {
     "name": "stdout",
     "output_type": "stream",
     "text": [
      "Yes, your name is Vaishnav.\n",
      "\n"
     ]
    }
   ],
   "source": [
    "response = chat.send_message('Do you remember what my name is?')\n",
    "print(response.text)"
   ]
  },
  {
   "cell_type": "markdown",
   "id": "9108b788",
   "metadata": {
    "id": "2KAjpr1200sW",
    "papermill": {
     "duration": 0.01387,
     "end_time": "2025-03-31T15:55:29.985853",
     "exception": false,
     "start_time": "2025-03-31T15:55:29.971983",
     "status": "completed"
    },
    "tags": []
   },
   "source": [
    "### Choose a model\n",
    "\n",
    "The Gemini API provides access to a number of models from the Gemini model family. Read about the available models and their capabilities on the [model overview page](https://ai.google.dev/gemini-api/docs/models/gemini).\n",
    "\n",
    "In this step you'll use the API to list all of the available models."
   ]
  },
  {
   "cell_type": "code",
   "execution_count": 11,
   "id": "397fbed4",
   "metadata": {
    "execution": {
     "iopub.execute_input": "2025-03-31T15:55:30.016052Z",
     "iopub.status.busy": "2025-03-31T15:55:30.015620Z",
     "iopub.status.idle": "2025-03-31T15:55:30.037270Z",
     "shell.execute_reply": "2025-03-31T15:55:30.035759Z"
    },
    "id": "uUUZa2uq2jDm",
    "papermill": {
     "duration": 0.040677,
     "end_time": "2025-03-31T15:55:30.039873",
     "exception": false,
     "start_time": "2025-03-31T15:55:29.999196",
     "status": "completed"
    },
    "tags": []
   },
   "outputs": [
    {
     "name": "stdout",
     "output_type": "stream",
     "text": [
      "models/chat-bison-001\n",
      "models/text-bison-001\n",
      "models/embedding-gecko-001\n",
      "models/gemini-1.0-pro-vision-latest\n",
      "models/gemini-pro-vision\n",
      "models/gemini-1.5-pro-latest\n",
      "models/gemini-1.5-pro-001\n",
      "models/gemini-1.5-pro-002\n",
      "models/gemini-1.5-pro\n",
      "models/gemini-1.5-flash-latest\n",
      "models/gemini-1.5-flash-001\n",
      "models/gemini-1.5-flash-001-tuning\n",
      "models/gemini-1.5-flash\n",
      "models/gemini-1.5-flash-002\n",
      "models/gemini-1.5-flash-8b\n",
      "models/gemini-1.5-flash-8b-001\n",
      "models/gemini-1.5-flash-8b-latest\n",
      "models/gemini-1.5-flash-8b-exp-0827\n",
      "models/gemini-1.5-flash-8b-exp-0924\n",
      "models/gemini-2.5-pro-exp-03-25\n",
      "models/gemini-2.0-flash-exp\n",
      "models/gemini-2.0-flash\n",
      "models/gemini-2.0-flash-001\n",
      "models/gemini-2.0-flash-exp-image-generation\n",
      "models/gemini-2.0-flash-lite-001\n",
      "models/gemini-2.0-flash-lite\n",
      "models/gemini-2.0-flash-lite-preview-02-05\n",
      "models/gemini-2.0-flash-lite-preview\n",
      "models/gemini-2.0-pro-exp\n",
      "models/gemini-2.0-pro-exp-02-05\n",
      "models/gemini-exp-1206\n",
      "models/gemini-2.0-flash-thinking-exp-01-21\n",
      "models/gemini-2.0-flash-thinking-exp\n",
      "models/gemini-2.0-flash-thinking-exp-1219\n",
      "models/learnlm-1.5-pro-experimental\n",
      "models/gemma-3-27b-it\n",
      "models/embedding-001\n",
      "models/text-embedding-004\n",
      "models/gemini-embedding-exp-03-07\n",
      "models/gemini-embedding-exp\n",
      "models/aqa\n",
      "models/imagen-3.0-generate-002\n"
     ]
    }
   ],
   "source": [
    "for model in client.models.list():\n",
    "  print(model.name)"
   ]
  },
  {
   "cell_type": "markdown",
   "id": "53e27ff0",
   "metadata": {
    "id": "rN49kSI54R1v",
    "papermill": {
     "duration": 0.012832,
     "end_time": "2025-03-31T15:55:30.066589",
     "exception": false,
     "start_time": "2025-03-31T15:55:30.053757",
     "status": "completed"
    },
    "tags": []
   },
   "source": [
    "The [`models.list`](https://ai.google.dev/api/models#method:-models.list) response also returns additional information about the model's capabilities, like the token limits and supported parameters."
   ]
  },
  {
   "cell_type": "code",
   "execution_count": 12,
   "id": "2e37807d",
   "metadata": {
    "execution": {
     "iopub.execute_input": "2025-03-31T15:55:30.094791Z",
     "iopub.status.busy": "2025-03-31T15:55:30.094436Z",
     "iopub.status.idle": "2025-03-31T15:55:30.116207Z",
     "shell.execute_reply": "2025-03-31T15:55:30.114601Z"
    },
    "id": "k7JJ1K6j4Rl8",
    "papermill": {
     "duration": 0.039192,
     "end_time": "2025-03-31T15:55:30.118861",
     "exception": false,
     "start_time": "2025-03-31T15:55:30.079669",
     "status": "completed"
    },
    "tags": []
   },
   "outputs": [
    {
     "name": "stdout",
     "output_type": "stream",
     "text": [
      "{'description': 'Gemini 2.0 Flash',\n",
      " 'display_name': 'Gemini 2.0 Flash',\n",
      " 'input_token_limit': 1048576,\n",
      " 'name': 'models/gemini-2.0-flash',\n",
      " 'output_token_limit': 8192,\n",
      " 'supported_actions': ['generateContent', 'countTokens'],\n",
      " 'tuned_model_info': {},\n",
      " 'version': '2.0'}\n"
     ]
    }
   ],
   "source": [
    "from pprint import pprint\n",
    "\n",
    "for model in client.models.list():\n",
    "  if model.name == 'models/gemini-2.0-flash':\n",
    "    pprint(model.to_json_dict())\n",
    "    break"
   ]
  },
  {
   "cell_type": "markdown",
   "id": "fb4d197b",
   "metadata": {
    "id": "5rU_UBlZdooM",
    "papermill": {
     "duration": 0.014558,
     "end_time": "2025-03-31T15:55:30.150834",
     "exception": false,
     "start_time": "2025-03-31T15:55:30.136276",
     "status": "completed"
    },
    "tags": []
   },
   "source": [
    "## Explore generation parameters\n",
    "\n"
   ]
  },
  {
   "cell_type": "markdown",
   "id": "f819bab0",
   "metadata": {
    "id": "G7NfEizeipbW",
    "papermill": {
     "duration": 0.014001,
     "end_time": "2025-03-31T15:55:30.178389",
     "exception": false,
     "start_time": "2025-03-31T15:55:30.164388",
     "status": "completed"
    },
    "tags": []
   },
   "source": [
    "### Output length\n",
    "\n",
    "When generating text with an LLM, the output length affects cost and performance. Generating more tokens increases computation, leading to higher energy consumption, latency, and cost.\n",
    "\n",
    "To stop the model from generating tokens past a limit, you can specify the `max_output_tokens` parameter when using the Gemini API. Specifying this parameter does not influence the generation of the output tokens, so the output will not become more stylistically or textually succinct, but it will stop generating tokens once the specified length is reached. Prompt engineering may be required to generate a more complete output for your given limit."
   ]
  },
  {
   "cell_type": "code",
   "execution_count": 13,
   "id": "c9494c7b",
   "metadata": {
    "execution": {
     "iopub.execute_input": "2025-03-31T15:55:30.209061Z",
     "iopub.status.busy": "2025-03-31T15:55:30.208662Z",
     "iopub.status.idle": "2025-03-31T15:55:31.573575Z",
     "shell.execute_reply": "2025-03-31T15:55:31.572056Z"
    },
    "id": "qVf23JsIi9ma",
    "papermill": {
     "duration": 1.38354,
     "end_time": "2025-03-31T15:55:31.576069",
     "exception": false,
     "start_time": "2025-03-31T15:55:30.192529",
     "status": "completed"
    },
    "tags": []
   },
   "outputs": [
    {
     "name": "stdout",
     "output_type": "stream",
     "text": [
      "## The Humble Olive: A Cornerstone of Modern Society\n",
      "\n",
      "The olive, a small fruit brimming with history and flavor, often goes unnoticed in the hustle of modern life. Yet, its importance transcends its humble appearance, impacting cultures, economies, and even health in profound ways. From its ancient roots to its current ubiquity, the olive is not merely a foodstuff; it is a cornerstone of modern society, woven into the fabric of our culinary traditions, agricultural practices, and even our understanding of well-being.\n",
      "\n",
      "The olive's historical significance is undeniable. Originating in the Eastern Mediterranean thousands of years ago, the olive tree (Olea europaea) has accompanied human civilization through millennia. Evidence suggests olive cultivation in the Levant dates back to the Bronze Age, and the olive has been a staple of the Mediterranean diet ever since. Ancient Greeks revered the olive, associating it with wisdom, peace, and prosperity. Olive oil was not just a culinary ingredient but also a vital element in religious ceremonies,\n"
     ]
    }
   ],
   "source": [
    "from google.genai import types\n",
    "\n",
    "short_config = types.GenerateContentConfig(max_output_tokens=200)\n",
    "\n",
    "response = client.models.generate_content(\n",
    "    model='gemini-2.0-flash',\n",
    "    config=short_config,\n",
    "    contents='Write a 1000 word essay on the importance of olives in modern society.')\n",
    "\n",
    "print(response.text)"
   ]
  },
  {
   "cell_type": "code",
   "execution_count": 14,
   "id": "7485cf74",
   "metadata": {
    "execution": {
     "iopub.execute_input": "2025-03-31T15:55:31.609354Z",
     "iopub.status.busy": "2025-03-31T15:55:31.608818Z",
     "iopub.status.idle": "2025-03-31T15:55:32.608664Z",
     "shell.execute_reply": "2025-03-31T15:55:32.607069Z"
    },
    "id": "W-3kR2F5kdMR",
    "papermill": {
     "duration": 1.020007,
     "end_time": "2025-03-31T15:55:32.611203",
     "exception": false,
     "start_time": "2025-03-31T15:55:31.591196",
     "status": "completed"
    },
    "tags": []
   },
   "outputs": [
    {
     "name": "stdout",
     "output_type": "stream",
     "text": [
      "From groves of green, a humble fruit,\n",
      "The olive thrives, a verdant loot.\n",
      "Pressed into oil, a golden stream,\n",
      "Nourishing bodies, a healthy dream.\n",
      "\n",
      "On pizza's crust, or salads bright,\n",
      "A savory burst, a welcome sight.\n",
      "In tapenades, a salty grace,\n",
      "A flavor complex, time cannot erase.\n",
      "\n",
      "So raise a glass, to this small thing,\n",
      "The olive's bounty, joy it can bring.\n",
      "A symbol of peace, a taste of sun,\n",
      "Its vital role, forever spun.\n",
      "\n"
     ]
    }
   ],
   "source": [
    "response = client.models.generate_content(\n",
    "    model='gemini-2.0-flash',\n",
    "    config=short_config,\n",
    "    contents='Write a short poem on the importance of olives in modern society.')\n",
    "\n",
    "print(response.text)"
   ]
  },
  {
   "cell_type": "markdown",
   "id": "4f214739",
   "metadata": {
    "id": "3ZhDSLB6lqqB",
    "papermill": {
     "duration": 0.017785,
     "end_time": "2025-03-31T15:55:32.648299",
     "exception": false,
     "start_time": "2025-03-31T15:55:32.630514",
     "status": "completed"
    },
    "tags": []
   },
   "source": [
    "Explore with your own prompts. Try a prompt with a restrictive output limit and then adjust the prompt to work within that limit."
   ]
  },
  {
   "cell_type": "markdown",
   "id": "ba32987f",
   "metadata": {
    "id": "alx-WaAvir_9",
    "papermill": {
     "duration": 0.013601,
     "end_time": "2025-03-31T15:55:32.676882",
     "exception": false,
     "start_time": "2025-03-31T15:55:32.663281",
     "status": "completed"
    },
    "tags": []
   },
   "source": [
    "### Temperature\n",
    "\n",
    "Temperature controls the degree of randomness in token selection. Higher temperatures result in a higher number of candidate tokens from which the next output token is selected, and can produce more diverse results, while lower temperatures have the opposite effect, such that a temperature of 0 results in greedy decoding, selecting the most probable token at each step.\n",
    "\n",
    "Temperature doesn't provide any guarantees of randomness, but it can be used to \"nudge\" the output somewhat."
   ]
  },
  {
   "cell_type": "code",
   "execution_count": 15,
   "id": "3b549e3b",
   "metadata": {
    "execution": {
     "iopub.execute_input": "2025-03-31T15:55:32.711299Z",
     "iopub.status.busy": "2025-03-31T15:55:32.710924Z",
     "iopub.status.idle": "2025-03-31T15:55:34.419643Z",
     "shell.execute_reply": "2025-03-31T15:55:34.418506Z"
    },
    "id": "SHraGMzqnZqt",
    "papermill": {
     "duration": 1.730153,
     "end_time": "2025-03-31T15:55:34.422223",
     "exception": false,
     "start_time": "2025-03-31T15:55:32.692070",
     "status": "completed"
    },
    "tags": []
   },
   "outputs": [
    {
     "name": "stdout",
     "output_type": "stream",
     "text": [
      "Magenta.\n",
      " -------------------------\n",
      "Mauve\n",
      " -------------------------\n",
      "Cerulean\n",
      " -------------------------\n",
      "Turquoise\n",
      " -------------------------\n",
      "Azure\n",
      " -------------------------\n"
     ]
    }
   ],
   "source": [
    "high_temp_config = types.GenerateContentConfig(temperature=2.0)\n",
    "\n",
    "\n",
    "for _ in range(5):\n",
    "  response = client.models.generate_content(\n",
    "      model='gemini-2.0-flash',\n",
    "      config=high_temp_config,\n",
    "      contents='Pick a random colour... (respond in a single word)')\n",
    "\n",
    "  if response.text:\n",
    "    print(response.text, '-' * 25)"
   ]
  },
  {
   "cell_type": "markdown",
   "id": "6c209593",
   "metadata": {
    "id": "z3J4pCTuof7e",
    "papermill": {
     "duration": 0.014441,
     "end_time": "2025-03-31T15:55:34.452245",
     "exception": false,
     "start_time": "2025-03-31T15:55:34.437804",
     "status": "completed"
    },
    "tags": []
   },
   "source": [
    "Now try the same prompt with temperature set to zero. Note that the output is not completely deterministic, as other parameters affect token selection, but the results will tend to be more stable."
   ]
  },
  {
   "cell_type": "code",
   "execution_count": 16,
   "id": "5bdf0eb8",
   "metadata": {
    "execution": {
     "iopub.execute_input": "2025-03-31T15:55:34.483829Z",
     "iopub.status.busy": "2025-03-31T15:55:34.483450Z",
     "iopub.status.idle": "2025-03-31T15:55:36.258216Z",
     "shell.execute_reply": "2025-03-31T15:55:36.256982Z"
    },
    "id": "clymkWv-PfUZ",
    "papermill": {
     "duration": 1.792493,
     "end_time": "2025-03-31T15:55:36.260408",
     "exception": false,
     "start_time": "2025-03-31T15:55:34.467915",
     "status": "completed"
    },
    "tags": []
   },
   "outputs": [
    {
     "name": "stdout",
     "output_type": "stream",
     "text": [
      "Azure\n",
      " -------------------------\n",
      "Azure\n",
      " -------------------------\n",
      "Azure\n",
      " -------------------------\n",
      "Azure\n",
      " -------------------------\n",
      "Azure\n",
      " -------------------------\n"
     ]
    }
   ],
   "source": [
    "low_temp_config = types.GenerateContentConfig(temperature=0.0)\n",
    "\n",
    "for _ in range(5):\n",
    "  response = client.models.generate_content(\n",
    "      model='gemini-2.0-flash',\n",
    "      config=low_temp_config,\n",
    "      contents='Pick a random colour... (respond in a single word)')\n",
    "\n",
    "  if response.text:\n",
    "    print(response.text, '-' * 25)"
   ]
  },
  {
   "cell_type": "markdown",
   "id": "b7cb9655",
   "metadata": {
    "id": "St5nt3vzitsZ",
    "papermill": {
     "duration": 0.013618,
     "end_time": "2025-03-31T15:55:36.288037",
     "exception": false,
     "start_time": "2025-03-31T15:55:36.274419",
     "status": "completed"
    },
    "tags": []
   },
   "source": [
    "### Top-P\n",
    "\n",
    "Like temperature, the top-P parameter is also used to control the diversity of the model's output.\n",
    "\n",
    "Top-P defines the probability threshold that, once cumulatively exceeded, tokens stop being selected as candidates. A top-P of 0 is typically equivalent to greedy decoding, and a top-P of 1 typically selects every token in the model's vocabulary.\n",
    "\n",
    "You may also see top-K referenced in LLM literature. Top-K is not configurable in the Gemini 2.0 series of models, but can be changed in older models. Top-K is a positive integer that defines the number of most probable tokens from which to select the output token. A top-K of 1 selects a single token, performing greedy decoding.\n",
    "\n",
    "\n",
    "Run this example a number of times, change the settings and observe the change in output."
   ]
  },
  {
   "cell_type": "code",
   "execution_count": 17,
   "id": "b29cb7ca",
   "metadata": {
    "execution": {
     "iopub.execute_input": "2025-03-31T15:55:36.319455Z",
     "iopub.status.busy": "2025-03-31T15:55:36.319034Z",
     "iopub.status.idle": "2025-03-31T15:55:40.725602Z",
     "shell.execute_reply": "2025-03-31T15:55:40.724459Z"
    },
    "id": "lPlzpEavUV8F",
    "papermill": {
     "duration": 4.425398,
     "end_time": "2025-03-31T15:55:40.728103",
     "exception": false,
     "start_time": "2025-03-31T15:55:36.302705",
     "status": "completed"
    },
    "tags": []
   },
   "outputs": [
    {
     "name": "stdout",
     "output_type": "stream",
     "text": [
      "Whiskers, a ginger tabby with eyes like melted gold, was bored. Terribly, irrevocably bored. His days were a monotonous cycle of napping in sunbeams, batting at dust motes, and receiving perfunctory pats from his human, Mildred, who was far more interested in her crossword puzzles than his captivating charm.\n",
      "\n",
      "One particularly dull afternoon, while Mildred was engrossed in a clue about a six-letter word for \"tranquility,\" Whiskers noticed it. A wisp of wind, carrying the scent of pine needles and something tantalizingly unfamiliar, slipped through the slightly ajar window. That was it. He was going on an adventure.\n",
      "\n",
      "He squeezed through the gap, landing with a graceful thump on the overgrown flowerbed below. The world exploded with new sensations. The prickly texture of damp earth under his paws, the cacophony of chirping crickets, the heady fragrance of roses blooming in defiance of Mildred's neglect.\n",
      "\n",
      "His first conquest was the towering oak tree in Mildred's backyard. Its rough bark provided an excellent scratching post and a breathtaking view of the neighboring yards. He surveyed his new kingdom: Mrs. Higgins' prize-winning petunias, the boisterous barking of a Jack Russell named Pip, and a tantalizing glimmer beyond the picket fence – a sprawling field of wildflowers.\n",
      "\n",
      "The wildflowers called to him. He stalked through the tall grass, a ginger tiger in a sea of emerald and gold. Butterflies danced around him, their wings tickling his nose. He chased them, pouncing with playful ferocity, his hunting instincts finally sated after years of chasing only imaginary prey.\n",
      "\n",
      "He reached a small stream, its water sparkling like liquid diamonds. He lapped at it cautiously, the cool water a refreshing contrast to the afternoon heat. Suddenly, a flash of blue caught his eye. A kingfisher, perched on a branch, its beak a dagger poised above the water. Whiskers watched, mesmerized, as it plunged into the stream and emerged with a wriggling silver fish.\n",
      "\n",
      "He spent the rest of the afternoon exploring the field, discovering hidden burrows, befriending (or at least tolerating) a grumpy earthworm, and basking in the warm glow of the setting sun. He felt alive, invigorated, finally free.\n",
      "\n",
      "As dusk began to settle, a new scent reached him, a familiar scent. Mildred's voice, calling his name. He felt a pang of guilt, quickly overshadowed by a surge of pride. He had lived an adventure, a real adventure.\n",
      "\n",
      "He trotted back towards the house, his fur slightly damp, his whiskers twitching with excitement. He squeezed back through the window, landing silently on the living room rug. Mildred rushed over, scooping him up in a flurry of apologies and worried clucking.\n",
      "\n",
      "He purred, nuzzling against her neck. He let her fuss over him, enjoying the warmth and comfort of his familiar home. He knew he'd be back, back to the wildflowers and the rushing stream, back to the adventure that awaited him just beyond the window. He might be Mildred's cat, but he was also a wild thing, a creature of the wind and the fields. And tomorrow, the adventure would continue.\n",
      "\n"
     ]
    }
   ],
   "source": [
    "model_config = types.GenerateContentConfig(\n",
    "    # These are the default values for gemini-2.0-flash.\n",
    "    temperature=1.0,\n",
    "    top_p=0.95,\n",
    ")\n",
    "\n",
    "story_prompt = \"You are a creative writer. Write a short story about a cat who goes on an adventure.\"\n",
    "response = client.models.generate_content(\n",
    "    model='gemini-2.0-flash',\n",
    "    config=model_config,\n",
    "    contents=story_prompt)\n",
    "\n",
    "print(response.text)"
   ]
  },
  {
   "cell_type": "markdown",
   "id": "9dcf9389",
   "metadata": {
    "id": "rMrYs1koY6DX",
    "papermill": {
     "duration": 0.014912,
     "end_time": "2025-03-31T15:55:40.757638",
     "exception": false,
     "start_time": "2025-03-31T15:55:40.742726",
     "status": "completed"
    },
    "tags": []
   },
   "source": [
    "## Prompting\n",
    "\n",
    "This section contains some prompts from the chapter for you to try out directly in the API. Try changing the text here to see how each prompt performs with different instructions, more examples, or any other changes you can think of."
   ]
  },
  {
   "cell_type": "markdown",
   "id": "b1865693",
   "metadata": {
    "id": "hhj_tQidZJP7",
    "papermill": {
     "duration": 0.017615,
     "end_time": "2025-03-31T15:55:40.790078",
     "exception": false,
     "start_time": "2025-03-31T15:55:40.772463",
     "status": "completed"
    },
    "tags": []
   },
   "source": [
    "### Zero-shot\n",
    "\n",
    "Zero-shot prompts are prompts that describe the request for the model directly.\n",
    "\n",
    "<table align=left>\n",
    "  <td>\n",
    "    <a target=\"_blank\" href=\"https://aistudio.google.com/prompts/1gzKKgDHwkAvexG5Up0LMtl1-6jKMKe4g\"><img src=\"https://ai.google.dev/site-assets/images/marketing/home/icon-ais.png\" style=\"height: 24px\" height=24/> Open in AI Studio</a>\n",
    "  </td>\n",
    "</table>"
   ]
  },
  {
   "cell_type": "code",
   "execution_count": 18,
   "id": "25ae874c",
   "metadata": {
    "execution": {
     "iopub.execute_input": "2025-03-31T15:55:40.823141Z",
     "iopub.status.busy": "2025-03-31T15:55:40.822747Z",
     "iopub.status.idle": "2025-03-31T15:55:41.150086Z",
     "shell.execute_reply": "2025-03-31T15:55:41.148829Z"
    },
    "id": "1_t-cwnDZzbH",
    "papermill": {
     "duration": 0.347137,
     "end_time": "2025-03-31T15:55:41.152292",
     "exception": false,
     "start_time": "2025-03-31T15:55:40.805155",
     "status": "completed"
    },
    "tags": []
   },
   "outputs": [
    {
     "name": "stdout",
     "output_type": "stream",
     "text": [
      "POSITIVE\n",
      "\n"
     ]
    }
   ],
   "source": [
    "model_config = types.GenerateContentConfig(\n",
    "    temperature=0.1,\n",
    "    top_p=1,\n",
    "    max_output_tokens=5,\n",
    ")\n",
    "\n",
    "zero_shot_prompt = \"\"\"Classify movie reviews as POSITIVE, NEUTRAL or NEGATIVE.\n",
    "Review: \"Her\" is a disturbing study revealing the direction\n",
    "humanity is headed if AI is allowed to keep evolving,\n",
    "unchecked. I wish there were more movies like this masterpiece.\n",
    "Sentiment: \"\"\"\n",
    "\n",
    "response = client.models.generate_content(\n",
    "    model='gemini-2.0-flash',\n",
    "    config=model_config,\n",
    "    contents=zero_shot_prompt)\n",
    "\n",
    "print(response.text)"
   ]
  },
  {
   "cell_type": "markdown",
   "id": "1621c83d",
   "metadata": {
    "id": "3b5568bdeb11",
    "papermill": {
     "duration": 0.014439,
     "end_time": "2025-03-31T15:55:41.180818",
     "exception": false,
     "start_time": "2025-03-31T15:55:41.166379",
     "status": "completed"
    },
    "tags": []
   },
   "source": [
    "#### Enum mode\n",
    "\n",
    "The models are trained to generate text, and while the Gemini 2.0 models are great at following instructions, other models can sometimes produce more text than you may wish for. In the preceding example, the model will output the label, but sometimes it can include a preceding \"Sentiment\" label, and without an output token limit, it may also add explanatory text afterwards. See [this prompt in AI Studio](https://aistudio.google.com/prompts/1gzKKgDHwkAvexG5Up0LMtl1-6jKMKe4g) for an example.\n",
    "\n",
    "The Gemini API has an [Enum mode](https://github.com/google-gemini/cookbook/blob/main/quickstarts/Enum.ipynb) feature that allows you to constrain the output to a fixed set of values."
   ]
  },
  {
   "cell_type": "code",
   "execution_count": 19,
   "id": "f47cfeb2",
   "metadata": {
    "execution": {
     "iopub.execute_input": "2025-03-31T15:55:41.215357Z",
     "iopub.status.busy": "2025-03-31T15:55:41.214932Z",
     "iopub.status.idle": "2025-03-31T15:55:41.602470Z",
     "shell.execute_reply": "2025-03-31T15:55:41.601021Z"
    },
    "id": "ad118a56c598",
    "papermill": {
     "duration": 0.407546,
     "end_time": "2025-03-31T15:55:41.605654",
     "exception": false,
     "start_time": "2025-03-31T15:55:41.198108",
     "status": "completed"
    },
    "tags": []
   },
   "outputs": [
    {
     "name": "stdout",
     "output_type": "stream",
     "text": [
      "positive\n"
     ]
    }
   ],
   "source": [
    "import enum\n",
    "\n",
    "class Sentiment(enum.Enum):\n",
    "    POSITIVE = \"positive\"\n",
    "    NEUTRAL = \"neutral\"\n",
    "    NEGATIVE = \"negative\"\n",
    "\n",
    "\n",
    "response = client.models.generate_content(\n",
    "    model='gemini-2.0-flash',\n",
    "    config=types.GenerateContentConfig(\n",
    "        response_mime_type=\"text/x.enum\",\n",
    "        response_schema=Sentiment\n",
    "    ),\n",
    "    contents=zero_shot_prompt)\n",
    "\n",
    "print(response.text)"
   ]
  },
  {
   "cell_type": "markdown",
   "id": "1d2f0291",
   "metadata": {
    "papermill": {
     "duration": 0.016068,
     "end_time": "2025-03-31T15:55:41.639586",
     "exception": false,
     "start_time": "2025-03-31T15:55:41.623518",
     "status": "completed"
    },
    "tags": []
   },
   "source": [
    "When using constrained output like an enum, the Python SDK will attempt to convert the model's text response into a Python object automatically. It's stored in the `response.parsed` field."
   ]
  },
  {
   "cell_type": "code",
   "execution_count": 20,
   "id": "92a61dd9",
   "metadata": {
    "execution": {
     "iopub.execute_input": "2025-03-31T15:55:41.673357Z",
     "iopub.status.busy": "2025-03-31T15:55:41.672942Z",
     "iopub.status.idle": "2025-03-31T15:55:41.678771Z",
     "shell.execute_reply": "2025-03-31T15:55:41.677209Z"
    },
    "papermill": {
     "duration": 0.028009,
     "end_time": "2025-03-31T15:55:41.682656",
     "exception": false,
     "start_time": "2025-03-31T15:55:41.654647",
     "status": "completed"
    },
    "tags": []
   },
   "outputs": [
    {
     "name": "stdout",
     "output_type": "stream",
     "text": [
      "Sentiment.POSITIVE\n",
      "<enum 'Sentiment'>\n"
     ]
    }
   ],
   "source": [
    "enum_response = response.parsed\n",
    "print(enum_response)\n",
    "print(type(enum_response))"
   ]
  },
  {
   "cell_type": "markdown",
   "id": "3218ef0f",
   "metadata": {
    "id": "0udiSwNbv45W",
    "papermill": {
     "duration": 0.013779,
     "end_time": "2025-03-31T15:55:41.710810",
     "exception": false,
     "start_time": "2025-03-31T15:55:41.697031",
     "status": "completed"
    },
    "tags": []
   },
   "source": [
    "### One-shot and few-shot\n",
    "\n",
    "Providing an example of the expected response is known as a \"one-shot\" prompt. When you provide multiple examples, it is a \"few-shot\" prompt.\n",
    "\n",
    "<table align=left>\n",
    "  <td>\n",
    "    <a target=\"_blank\" href=\"https://aistudio.google.com/prompts/1jjWkjUSoMXmLvMJ7IzADr_GxHPJVV2bg\"><img src=\"https://ai.google.dev/site-assets/images/marketing/home/icon-ais.png\" style=\"height: 24px\" height=24/> Open in AI Studio</a>\n",
    "  </td>\n",
    "</table>\n"
   ]
  },
  {
   "cell_type": "code",
   "execution_count": 21,
   "id": "1f0f80b1",
   "metadata": {
    "execution": {
     "iopub.execute_input": "2025-03-31T15:55:41.740758Z",
     "iopub.status.busy": "2025-03-31T15:55:41.740400Z",
     "iopub.status.idle": "2025-03-31T15:55:42.152636Z",
     "shell.execute_reply": "2025-03-31T15:55:42.151501Z"
    },
    "id": "hd4mVUukwOKZ",
    "papermill": {
     "duration": 0.430406,
     "end_time": "2025-03-31T15:55:42.155322",
     "exception": false,
     "start_time": "2025-03-31T15:55:41.724916",
     "status": "completed"
    },
    "tags": []
   },
   "outputs": [
    {
     "name": "stdout",
     "output_type": "stream",
     "text": [
      "```json\n",
      "{\n",
      "\"size\": \"large\",\n",
      "\"type\": \"normal\",\n",
      "\"ingredients\": [\"cheese\", \"pineapple\"]\n",
      "}\n",
      "```\n",
      "\n"
     ]
    }
   ],
   "source": [
    "few_shot_prompt = \"\"\"Parse a customer's pizza order into valid JSON:\n",
    "\n",
    "EXAMPLE:\n",
    "I want a small pizza with cheese, tomato sauce, and pepperoni.\n",
    "JSON Response:\n",
    "```\n",
    "{\n",
    "\"size\": \"small\",\n",
    "\"type\": \"normal\",\n",
    "\"ingredients\": [\"cheese\", \"tomato sauce\", \"pepperoni\"]\n",
    "}\n",
    "```\n",
    "\n",
    "EXAMPLE:\n",
    "Can I get a large pizza with tomato sauce, basil and mozzarella\n",
    "JSON Response:\n",
    "```\n",
    "{\n",
    "\"size\": \"large\",\n",
    "\"type\": \"normal\",\n",
    "\"ingredients\": [\"tomato sauce\", \"basil\", \"mozzarella\"]\n",
    "}\n",
    "```\n",
    "\n",
    "ORDER:\n",
    "\"\"\"\n",
    "\n",
    "customer_order = \"Give me a large with cheese & pineapple\"\n",
    "\n",
    "response = client.models.generate_content(\n",
    "    model='gemini-2.0-flash',\n",
    "    config=types.GenerateContentConfig(\n",
    "        temperature=0.1,\n",
    "        top_p=1,\n",
    "        max_output_tokens=250,\n",
    "    ),\n",
    "    contents=[few_shot_prompt, customer_order])\n",
    "\n",
    "print(response.text)"
   ]
  },
  {
   "cell_type": "markdown",
   "id": "7ee307bc",
   "metadata": {
    "id": "021293096f08",
    "papermill": {
     "duration": 0.014878,
     "end_time": "2025-03-31T15:55:42.185683",
     "exception": false,
     "start_time": "2025-03-31T15:55:42.170805",
     "status": "completed"
    },
    "tags": []
   },
   "source": [
    "#### JSON mode\n",
    "\n",
    "To provide control over the schema, and to ensure that you only receive JSON (with no other text or markdown), you can use the Gemini API's [JSON mode](https://github.com/google-gemini/cookbook/blob/main/quickstarts/JSON_mode.ipynb). This forces the model to constrain decoding, such that token selection is guided by the supplied schema."
   ]
  },
  {
   "cell_type": "code",
   "execution_count": 22,
   "id": "2ae2b9e5",
   "metadata": {
    "execution": {
     "iopub.execute_input": "2025-03-31T15:55:42.220115Z",
     "iopub.status.busy": "2025-03-31T15:55:42.219676Z",
     "iopub.status.idle": "2025-03-31T15:55:42.801275Z",
     "shell.execute_reply": "2025-03-31T15:55:42.799038Z"
    },
    "id": "50fbf0260912",
    "papermill": {
     "duration": 0.60481,
     "end_time": "2025-03-31T15:55:42.805560",
     "exception": false,
     "start_time": "2025-03-31T15:55:42.200750",
     "status": "completed"
    },
    "tags": []
   },
   "outputs": [
    {
     "name": "stdout",
     "output_type": "stream",
     "text": [
      "{\n",
      "  \"size\": \"large\",\n",
      "  \"ingredients\": [\"apple\", \"chocolate\"],\n",
      "  \"type\": \"dessert pizza\"\n",
      "}\n"
     ]
    }
   ],
   "source": [
    "import typing_extensions as typing\n",
    "\n",
    "class PizzaOrder(typing.TypedDict):\n",
    "    size: str\n",
    "    ingredients: list[str]\n",
    "    type: str\n",
    "\n",
    "\n",
    "response = client.models.generate_content(\n",
    "    model='gemini-2.0-flash',\n",
    "    config=types.GenerateContentConfig(\n",
    "        temperature=0.1,\n",
    "        response_mime_type=\"application/json\",\n",
    "        response_schema=PizzaOrder,\n",
    "    ),\n",
    "    contents=\"Can I have a large dessert pizza with apple and chocolate\")\n",
    "\n",
    "print(response.text)"
   ]
  },
  {
   "cell_type": "markdown",
   "id": "cdf0cb14",
   "metadata": {
    "id": "4a93e338e57c",
    "papermill": {
     "duration": 0.029994,
     "end_time": "2025-03-31T15:55:42.860173",
     "exception": false,
     "start_time": "2025-03-31T15:55:42.830179",
     "status": "completed"
    },
    "tags": []
   },
   "source": [
    "### Chain of Thought (CoT)\n",
    "\n",
    "Direct prompting on LLMs can return answers quickly and (in terms of output token usage) efficiently, but they can be prone to hallucination. The answer may \"look\" correct (in terms of language and syntax) but is incorrect in terms of factuality and reasoning.\n",
    "\n",
    "Chain-of-Thought prompting is a technique where you instruct the model to output intermediate reasoning steps, and it typically gets better results, especially when combined with few-shot examples. It is worth noting that this technique doesn't completely eliminate hallucinations, and that it tends to cost more to run, due to the increased token count.\n",
    "\n",
    "Models like the Gemini family are trained to be \"chatty\" or \"thoughtful\" and will provide reasoning steps without prompting, so for this simple example you can ask the model to be more direct in the prompt to force a non-reasoning response. Try re-running this step if the model gets lucky and gets the answer correct on the first try."
   ]
  },
  {
   "cell_type": "code",
   "execution_count": 23,
   "id": "baff9243",
   "metadata": {
    "execution": {
     "iopub.execute_input": "2025-03-31T15:55:42.906417Z",
     "iopub.status.busy": "2025-03-31T15:55:42.904814Z",
     "iopub.status.idle": "2025-03-31T15:55:43.169450Z",
     "shell.execute_reply": "2025-03-31T15:55:43.168114Z"
    },
    "id": "5715555db1c1",
    "papermill": {
     "duration": 0.289079,
     "end_time": "2025-03-31T15:55:43.172264",
     "exception": false,
     "start_time": "2025-03-31T15:55:42.883185",
     "status": "completed"
    },
    "tags": []
   },
   "outputs": [
    {
     "name": "stdout",
     "output_type": "stream",
     "text": [
      "48\n",
      "\n"
     ]
    }
   ],
   "source": [
    "prompt = \"\"\"When I was 4 years old, my partner was 3 times my age. Now, I\n",
    "am 20 years old. How old is my partner? Return the answer directly.\"\"\"\n",
    "\n",
    "response = client.models.generate_content(\n",
    "    model='gemini-2.0-flash',\n",
    "    contents=prompt)\n",
    "\n",
    "print(response.text)"
   ]
  },
  {
   "cell_type": "markdown",
   "id": "a2edc7bb",
   "metadata": {
    "id": "e12b19677bfd",
    "papermill": {
     "duration": 0.017202,
     "end_time": "2025-03-31T15:55:43.206499",
     "exception": false,
     "start_time": "2025-03-31T15:55:43.189297",
     "status": "completed"
    },
    "tags": []
   },
   "source": [
    "Now try the same approach, but indicate to the model that it should \"think step by step\"."
   ]
  },
  {
   "cell_type": "code",
   "execution_count": 24,
   "id": "36607a19",
   "metadata": {
    "execution": {
     "iopub.execute_input": "2025-03-31T15:55:43.245202Z",
     "iopub.status.busy": "2025-03-31T15:55:43.244767Z",
     "iopub.status.idle": "2025-03-31T15:56:58.316878Z",
     "shell.execute_reply": "2025-03-31T15:56:58.315761Z"
    },
    "id": "ffd7536a481f",
    "papermill": {
     "duration": 75.108165,
     "end_time": "2025-03-31T15:56:58.334421",
     "exception": false,
     "start_time": "2025-03-31T15:55:43.226256",
     "status": "completed"
    },
    "tags": []
   },
   "outputs": [
    {
     "data": {
      "text/markdown": [
       "Here's how to solve this step by step:\n",
       "\n",
       "1. **Find the age difference:** When you were 4, your partner was 3 times your age, meaning they were 4 * 3 = 12 years old.\n",
       "2. **Calculate the age difference:** The age difference between you and your partner is 12 - 4 = 8 years.\n",
       "3. **Determine partner's current age:** Since the age difference remains constant, your partner is always 8 years older than you. Now that you are 20, your partner is 20 + 8 = 28 years old.\n",
       "\n",
       "**Therefore, your partner is currently 28 years old.**\n"
      ],
      "text/plain": [
       "<IPython.core.display.Markdown object>"
      ]
     },
     "execution_count": 24,
     "metadata": {},
     "output_type": "execute_result"
    }
   ],
   "source": [
    "prompt = \"\"\"When I was 4 years old, my partner was 3 times my age. Now,\n",
    "I am 20 years old. How old is my partner? Let's think step by step.\"\"\"\n",
    "\n",
    "response = client.models.generate_content(\n",
    "    model='gemini-2.0-flash',\n",
    "    contents=prompt)\n",
    "\n",
    "Markdown(response.text)"
   ]
  },
  {
   "cell_type": "markdown",
   "id": "e079c340",
   "metadata": {
    "id": "oiLgBQJj0V53",
    "papermill": {
     "duration": 0.017352,
     "end_time": "2025-03-31T15:56:58.368557",
     "exception": false,
     "start_time": "2025-03-31T15:56:58.351205",
     "status": "completed"
    },
    "tags": []
   },
   "source": [
    "### ReAct: Reason and act\n",
    "\n",
    "In this example you will run a ReAct prompt directly in the Gemini API and perform the searching steps yourself. As this prompt follows a well-defined structure, there are frameworks available that wrap the prompt into easier-to-use APIs that make tool calls automatically, such as the LangChain example from the \"Prompting\" whitepaper.\n",
    "\n",
    "To try this out with the Wikipedia search engine, check out the [Searching Wikipedia with ReAct](https://github.com/google-gemini/cookbook/blob/main/examples/Search_Wikipedia_using_ReAct.ipynb) cookbook example.\n",
    "\n",
    "\n",
    "> Note: The prompt and in-context examples used here are from [https://github.com/ysymyth/ReAct](https://github.com/ysymyth/ReAct) which is published under an [MIT license](https://opensource.org/licenses/MIT), Copyright (c) 2023 Shunyu Yao.\n",
    "\n",
    "<table align=left>\n",
    "  <td>\n",
    "    <a target=\"_blank\" href=\"https://aistudio.google.com/prompts/18oo63Lwosd-bQ6Ay51uGogB3Wk3H8XMO\"><img src=\"https://ai.google.dev/site-assets/images/marketing/home/icon-ais.png\" style=\"height: 24px\" height=24/> Open in AI Studio</a>\n",
    "  </td>\n",
    "</table>\n"
   ]
  },
  {
   "cell_type": "code",
   "execution_count": 25,
   "id": "7e656124",
   "metadata": {
    "execution": {
     "iopub.execute_input": "2025-03-31T15:56:58.402107Z",
     "iopub.status.busy": "2025-03-31T15:56:58.401649Z",
     "iopub.status.idle": "2025-03-31T15:56:58.409176Z",
     "shell.execute_reply": "2025-03-31T15:56:58.408058Z"
    },
    "id": "cBgyNJ5z0VSs",
    "papermill": {
     "duration": 0.027566,
     "end_time": "2025-03-31T15:56:58.411723",
     "exception": false,
     "start_time": "2025-03-31T15:56:58.384157",
     "status": "completed"
    },
    "tags": []
   },
   "outputs": [],
   "source": [
    "model_instructions = \"\"\"\n",
    "Solve a question answering task with interleaving Thought, Action, Observation steps. Thought can reason about the current situation,\n",
    "Observation is understanding relevant information from an Action's output and Action can be one of three types:\n",
    " (1) <search>entity</search>, which searches the exact entity on Wikipedia and returns the first paragraph if it exists. If not, it\n",
    "     will return some similar entities to search and you can try to search the information from those topics.\n",
    " (2) <lookup>keyword</lookup>, which returns the next sentence containing keyword in the current context. This only does exact matches,\n",
    "     so keep your searches short.\n",
    " (3) <finish>answer</finish>, which returns the answer and finishes the task.\n",
    "\"\"\"\n",
    "\n",
    "example1 = \"\"\"Question\n",
    "Musician and satirist Allie Goertz wrote a song about the \"The Simpsons\" character Milhouse, who Matt Groening named after who?\n",
    "\n",
    "Thought 1\n",
    "The question simplifies to \"The Simpsons\" character Milhouse is named after who. I only need to search Milhouse and find who it is named after.\n",
    "\n",
    "Action 1\n",
    "<search>Milhouse</search>\n",
    "\n",
    "Observation 1\n",
    "Milhouse Mussolini Van Houten is a recurring character in the Fox animated television series The Simpsons voiced by Pamela Hayden and created by Matt Groening.\n",
    "\n",
    "Thought 2\n",
    "The paragraph does not tell who Milhouse is named after, maybe I can look up \"named after\".\n",
    "\n",
    "Action 2\n",
    "<lookup>named after</lookup>\n",
    "\n",
    "Observation 2\n",
    "Milhouse was named after U.S. president Richard Nixon, whose middle name was Milhous.\n",
    "\n",
    "Thought 3\n",
    "Milhouse was named after U.S. president Richard Nixon, so the answer is Richard Nixon.\n",
    "\n",
    "Action 3\n",
    "<finish>Richard Nixon</finish>\n",
    "\"\"\"\n",
    "\n",
    "example2 = \"\"\"Question\n",
    "What is the elevation range for the area that the eastern sector of the Colorado orogeny extends into?\n",
    "\n",
    "Thought 1\n",
    "I need to search Colorado orogeny, find the area that the eastern sector of the Colorado orogeny extends into, then find the elevation range of the area.\n",
    "\n",
    "Action 1\n",
    "<search>Colorado orogeny</search>\n",
    "\n",
    "Observation 1\n",
    "The Colorado orogeny was an episode of mountain building (an orogeny) in Colorado and surrounding areas.\n",
    "\n",
    "Thought 2\n",
    "It does not mention the eastern sector. So I need to look up eastern sector.\n",
    "\n",
    "Action 2\n",
    "<lookup>eastern sector</lookup>\n",
    "\n",
    "Observation 2\n",
    "The eastern sector extends into the High Plains and is called the Central Plains orogeny.\n",
    "\n",
    "Thought 3\n",
    "The eastern sector of Colorado orogeny extends into the High Plains. So I need to search High Plains and find its elevation range.\n",
    "\n",
    "Action 3\n",
    "<search>High Plains</search>\n",
    "\n",
    "Observation 3\n",
    "High Plains refers to one of two distinct land regions\n",
    "\n",
    "Thought 4\n",
    "I need to instead search High Plains (United States).\n",
    "\n",
    "Action 4\n",
    "<search>High Plains (United States)</search>\n",
    "\n",
    "Observation 4\n",
    "The High Plains are a subregion of the Great Plains. From east to west, the High Plains rise in elevation from around 1,800 to 7,000 ft (550 to 2,130m).\n",
    "\n",
    "Thought 5\n",
    "High Plains rise in elevation from around 1,800 to 7,000 ft, so the answer is 1,800 to 7,000 ft.\n",
    "\n",
    "Action 5\n",
    "<finish>1,800 to 7,000 ft</finish>\n",
    "\"\"\"\n",
    "\n",
    "# Come up with more examples yourself, or take a look through https://github.com/ysymyth/ReAct/"
   ]
  },
  {
   "cell_type": "markdown",
   "id": "38ac293f",
   "metadata": {
    "id": "C3wbfstjTgey",
    "papermill": {
     "duration": 0.016301,
     "end_time": "2025-03-31T15:56:58.444409",
     "exception": false,
     "start_time": "2025-03-31T15:56:58.428108",
     "status": "completed"
    },
    "tags": []
   },
   "source": [
    "To capture a single step at a time, while ignoring any hallucinated Observation steps, you will use `stop_sequences` to end the generation process. The steps are `Thought`, `Action`, `Observation`, in that order."
   ]
  },
  {
   "cell_type": "code",
   "execution_count": 26,
   "id": "00d5cc6e",
   "metadata": {
    "execution": {
     "iopub.execute_input": "2025-03-31T15:56:58.478311Z",
     "iopub.status.busy": "2025-03-31T15:56:58.477875Z",
     "iopub.status.idle": "2025-03-31T15:56:58.992353Z",
     "shell.execute_reply": "2025-03-31T15:56:58.990232Z"
    },
    "id": "8mxrXRkRTdXm",
    "papermill": {
     "duration": 0.536241,
     "end_time": "2025-03-31T15:56:58.996060",
     "exception": false,
     "start_time": "2025-03-31T15:56:58.459819",
     "status": "completed"
    },
    "tags": []
   },
   "outputs": [
    {
     "name": "stdout",
     "output_type": "stream",
     "text": [
      "Thought 1\n",
      "I need to find the transformers NLP paper, then identify the authors and find the youngest among them.\n",
      "\n",
      "Action 1\n",
      "<search>transformers NLP paper</search>\n",
      "\n"
     ]
    }
   ],
   "source": [
    "question = \"\"\"Question\n",
    "Who was the youngest author listed on the transformers NLP paper?\n",
    "\"\"\"\n",
    "\n",
    "# You will perform the Action; so generate up to, but not including, the Observation.\n",
    "react_config = types.GenerateContentConfig(\n",
    "    stop_sequences=[\"\\nObservation\"],\n",
    "    system_instruction=model_instructions + example1 + example2,\n",
    ")\n",
    "\n",
    "# Create a chat that has the model instructions and examples pre-seeded.\n",
    "react_chat = client.chats.create(\n",
    "    model='gemini-2.0-flash',\n",
    "    config=react_config,\n",
    ")\n",
    "\n",
    "resp = react_chat.send_message(question)\n",
    "print(resp.text)"
   ]
  },
  {
   "cell_type": "markdown",
   "id": "ab738106",
   "metadata": {
    "id": "aW2PIdLbVv3l",
    "papermill": {
     "duration": 0.023025,
     "end_time": "2025-03-31T15:56:59.038102",
     "exception": false,
     "start_time": "2025-03-31T15:56:59.015077",
     "status": "completed"
    },
    "tags": []
   },
   "source": [
    "Now you can perform this research yourself and supply it back to the model."
   ]
  },
  {
   "cell_type": "code",
   "execution_count": 27,
   "id": "6aa9856b",
   "metadata": {
    "execution": {
     "iopub.execute_input": "2025-03-31T15:56:59.077027Z",
     "iopub.status.busy": "2025-03-31T15:56:59.076539Z",
     "iopub.status.idle": "2025-03-31T15:56:59.787680Z",
     "shell.execute_reply": "2025-03-31T15:56:59.786265Z"
    },
    "id": "mLMc0DZaV9g2",
    "papermill": {
     "duration": 0.732777,
     "end_time": "2025-03-31T15:56:59.790157",
     "exception": false,
     "start_time": "2025-03-31T15:56:59.057380",
     "status": "completed"
    },
    "tags": []
   },
   "outputs": [
    {
     "name": "stdout",
     "output_type": "stream",
     "text": [
      "Thought 2\n",
      "Now I need to find the authors' ages. This is difficult since the paper doesn't provide this information. I will have to search for each author to find their birthdates and then determine the youngest.\n",
      "\n",
      "Action 2\n",
      "<search>Ashish Vaswani birthdate</search>\n",
      "\n"
     ]
    }
   ],
   "source": [
    "observation = \"\"\"Observation 1\n",
    "[1706.03762] Attention Is All You Need\n",
    "Ashish Vaswani, Noam Shazeer, Niki Parmar, Jakob Uszkoreit, Llion Jones, Aidan N. Gomez, Lukasz Kaiser, Illia Polosukhin\n",
    "We propose a new simple network architecture, the Transformer, based solely on attention mechanisms, dispensing with recurrence and convolutions entirely.\n",
    "\"\"\"\n",
    "resp = react_chat.send_message(observation)\n",
    "print(resp.text)"
   ]
  },
  {
   "cell_type": "markdown",
   "id": "88d76692",
   "metadata": {
    "id": "bo0tzf4nX6dA",
    "papermill": {
     "duration": 0.015795,
     "end_time": "2025-03-31T15:56:59.822499",
     "exception": false,
     "start_time": "2025-03-31T15:56:59.806704",
     "status": "completed"
    },
    "tags": []
   },
   "source": [
    "This process repeats until the `<finish>` action is reached. You can continue running this yourself if you like, or try the [Wikipedia example](https://github.com/google-gemini/cookbook/blob/main/examples/Search_Wikipedia_using_ReAct.ipynb) to see a fully automated ReAct system at work."
   ]
  },
  {
   "cell_type": "markdown",
   "id": "818d3971",
   "metadata": {
    "papermill": {
     "duration": 0.015692,
     "end_time": "2025-03-31T15:56:59.855784",
     "exception": false,
     "start_time": "2025-03-31T15:56:59.840092",
     "status": "completed"
    },
    "tags": []
   },
   "source": [
    "## Thinking mode\n",
    "\n",
    "The experiemental Gemini Flash 2.0 \"Thinking\" model has been trained to generate the \"thinking process\" the model goes through as part of its response. As a result, the Flash Thinking model is capable of stronger reasoning capabilities in its responses.\n",
    "\n",
    "Using a \"thinking mode\" model can provide you with high-quality responses without needing specialised prompting like the previous approaches. One reason this technique is effective is that you induce the model to generate relevant information (\"brainstorming\", or \"thoughts\") that is then used as part of the context in which the final response is generated.\n",
    "\n",
    "Note that when you use the API, you get the final response from the model, but the thoughts are not captured. To see the intermediate thoughts, try out [the thinking mode model in AI Studio](https://aistudio.google.com/prompts/new_chat?model=gemini-2.0-flash-thinking-exp-01-21).\n",
    "\n",
    "<table align=left>\n",
    "  <td>\n",
    "    <a target=\"_blank\" href=\"https://aistudio.google.com/prompts/1Z991SV7lZZZqioOiqIUPv9a9ix-ws4zk\"><img src=\"https://ai.google.dev/site-assets/images/marketing/home/icon-ais.png\" style=\"height: 24px\" height=24/> Open in AI Studio</a>\n",
    "  </td>\n",
    "</table>"
   ]
  },
  {
   "cell_type": "code",
   "execution_count": 28,
   "id": "3d378657",
   "metadata": {
    "execution": {
     "iopub.execute_input": "2025-03-31T15:56:59.887888Z",
     "iopub.status.busy": "2025-03-31T15:56:59.887518Z",
     "iopub.status.idle": "2025-03-31T15:57:05.422028Z",
     "shell.execute_reply": "2025-03-31T15:57:05.420864Z"
    },
    "papermill": {
     "duration": 5.553233,
     "end_time": "2025-03-31T15:57:05.424029",
     "exception": false,
     "start_time": "2025-03-31T15:56:59.870796",
     "status": "completed"
    },
    "tags": []
   },
   "outputs": [
    {
     "data": {
      "text/markdown": [
       "The youngest author listed on the \"Attention is All You Need\" paper, which introduced the Transformer architecture, is **Aidan N. Gomez**.\n",
       "\n",
       "He was a PhD student at the University of Oxford at the time of publication in 2017, making him likely the youngest among the authors who were primarily researchers and scientists at Google."
      ],
      "text/plain": [
       "<IPython.core.display.Markdown object>"
      ]
     },
     "execution_count": 28,
     "metadata": {},
     "output_type": "execute_result"
    }
   ],
   "source": [
    "import io\n",
    "from IPython.display import Markdown, clear_output\n",
    "\n",
    "\n",
    "response = client.models.generate_content_stream(\n",
    "    model='gemini-2.0-flash-thinking-exp',\n",
    "    contents='Who was the youngest author listed on the transformers NLP paper?',\n",
    ")\n",
    "\n",
    "buf = io.StringIO()\n",
    "for chunk in response:\n",
    "    buf.write(chunk.text)\n",
    "    # Display the response as it is streamed\n",
    "    print(chunk.text, end='')\n",
    "\n",
    "# And then render the finished response as formatted markdown.\n",
    "clear_output()\n",
    "Markdown(buf.getvalue())"
   ]
  },
  {
   "cell_type": "markdown",
   "id": "8bff71d8",
   "metadata": {
    "id": "jPiZ_eIIaVPt",
    "papermill": {
     "duration": 0.014519,
     "end_time": "2025-03-31T15:57:05.453763",
     "exception": false,
     "start_time": "2025-03-31T15:57:05.439244",
     "status": "completed"
    },
    "tags": []
   },
   "source": [
    "## Code prompting"
   ]
  },
  {
   "cell_type": "markdown",
   "id": "b794d476",
   "metadata": {
    "id": "ZinKamwXeR6C",
    "papermill": {
     "duration": 0.015701,
     "end_time": "2025-03-31T15:57:05.483890",
     "exception": false,
     "start_time": "2025-03-31T15:57:05.468189",
     "status": "completed"
    },
    "tags": []
   },
   "source": [
    "### Generating code\n",
    "\n",
    "The Gemini family of models can be used to generate code, configuration and scripts. Generating code can be helpful when learning to code, learning a new language or for rapidly generating a first draft.\n",
    "\n",
    "It's important to be aware that since LLMs can make mistakes, and can repeat training data, it's essential to read and test your code first, and comply with any relevant licenses.\n",
    "\n",
    "<table align=left>\n",
    "  <td>\n",
    "    <a target=\"_blank\" href=\"https://aistudio.google.com/prompts/1YX71JGtzDjXQkgdes8bP6i3oH5lCRKxv\"><img src=\"https://ai.google.dev/site-assets/images/marketing/home/icon-ais.png\" style=\"height: 24px\" height=24/> Open in AI Studio</a>\n",
    "  </td>\n",
    "</table>"
   ]
  },
  {
   "cell_type": "code",
   "execution_count": 29,
   "id": "4ac93fff",
   "metadata": {
    "execution": {
     "iopub.execute_input": "2025-03-31T15:57:05.514987Z",
     "iopub.status.busy": "2025-03-31T15:57:05.514580Z",
     "iopub.status.idle": "2025-03-31T15:57:06.459253Z",
     "shell.execute_reply": "2025-03-31T15:57:06.458033Z"
    },
    "id": "fOQP9pqmeUO1",
    "papermill": {
     "duration": 0.963386,
     "end_time": "2025-03-31T15:57:06.461580",
     "exception": false,
     "start_time": "2025-03-31T15:57:05.498194",
     "status": "completed"
    },
    "tags": []
   },
   "outputs": [
    {
     "data": {
      "text/markdown": [
       "```python\n",
       "def factorial(n):\n",
       "  \"\"\"\n",
       "  Calculates the factorial of a non-negative integer.\n",
       "\n",
       "  Args:\n",
       "    n: An integer.\n",
       "\n",
       "  Returns:\n",
       "    The factorial of n if n is a non-negative integer, otherwise raises ValueError.\n",
       "  \"\"\"\n",
       "  if not isinstance(n, int):\n",
       "    raise TypeError(\"Input must be an integer.\")\n",
       "  if n < 0:\n",
       "    raise ValueError(\"Input must be a non-negative integer.\")\n",
       "  if n == 0:\n",
       "    return 1\n",
       "  else:\n",
       "    result = 1\n",
       "    for i in range(1, n + 1):\n",
       "      result *= i\n",
       "    return result\n",
       "```\n"
      ],
      "text/plain": [
       "<IPython.core.display.Markdown object>"
      ]
     },
     "execution_count": 29,
     "metadata": {},
     "output_type": "execute_result"
    }
   ],
   "source": [
    "# The Gemini models love to talk, so it helps to specify they stick to the code if that\n",
    "# is all that you want.\n",
    "code_prompt = \"\"\"\n",
    "Write a Python function to calculate the factorial of a number. No explanation, provide only the code.\n",
    "\"\"\"\n",
    "\n",
    "response = client.models.generate_content(\n",
    "    model='gemini-2.0-flash',\n",
    "    config=types.GenerateContentConfig(\n",
    "        temperature=1,\n",
    "        top_p=1,\n",
    "        max_output_tokens=1024,\n",
    "    ),\n",
    "    contents=code_prompt)\n",
    "\n",
    "Markdown(response.text)"
   ]
  },
  {
   "cell_type": "markdown",
   "id": "9df375f7",
   "metadata": {
    "id": "wlBMWSFhgVRQ",
    "papermill": {
     "duration": 0.014274,
     "end_time": "2025-03-31T15:57:06.491436",
     "exception": false,
     "start_time": "2025-03-31T15:57:06.477162",
     "status": "completed"
    },
    "tags": []
   },
   "source": [
    "### Code execution\n",
    "\n",
    "The Gemini API can automatically run generated code too, and will return the output.\n",
    "\n",
    "<table align=left>\n",
    "  <td>\n",
    "    <a target=\"_blank\" href=\"https://aistudio.google.com/prompts/11veFr_VYEwBWcLkhNLr-maCG0G8sS_7Z\"><img src=\"https://ai.google.dev/site-assets/images/marketing/home/icon-ais.png\" style=\"height: 24px\" height=24/> Open in AI Studio</a>\n",
    "  </td>\n",
    "</table>"
   ]
  },
  {
   "cell_type": "code",
   "execution_count": 30,
   "id": "ef4facc4",
   "metadata": {
    "execution": {
     "iopub.execute_input": "2025-03-31T15:57:06.524691Z",
     "iopub.status.busy": "2025-03-31T15:57:06.524312Z",
     "iopub.status.idle": "2025-03-31T15:57:08.266556Z",
     "shell.execute_reply": "2025-03-31T15:57:08.265418Z"
    },
    "id": "jT3OfWYfhjRL",
    "papermill": {
     "duration": 1.761967,
     "end_time": "2025-03-31T15:57:08.268889",
     "exception": false,
     "start_time": "2025-03-31T15:57:06.506922",
     "status": "completed"
    },
    "tags": []
   },
   "outputs": [
    {
     "name": "stdout",
     "output_type": "stream",
     "text": [
      "{'text': \"Okay, I can do that. First, I'll generate the first 14 odd prime \"\n",
      "         'numbers. Recall that a prime number is a natural number greater than '\n",
      "         '1 that has no positive divisors other than 1 and itself. The first '\n",
      "         'few prime numbers are 2, 3, 5, 7, 11, and so on. Since we need *odd* '\n",
      "         \"prime numbers, we will start after 2. Then, I'll calculate their sum \"\n",
      "         'using a python code block.\\n'\n",
      "         '\\n'}\n",
      "-----\n",
      "{'executable_code': {'code': 'primes = [3, 5, 7, 11, 13, 17, 19, 23, 29, 31, '\n",
      "                             '37, 41, 43, 47]\\n'\n",
      "                             'sum_of_primes = sum(primes)\\n'\n",
      "                             \"print(f'{sum_of_primes=}')\\n\",\n",
      "                     'language': 'PYTHON'}}\n",
      "-----\n",
      "{'code_execution_result': {'outcome': 'OUTCOME_OK',\n",
      "                           'output': 'sum_of_primes=326\\n'}}\n",
      "-----\n",
      "{'text': 'The first 14 odd prime numbers are 3, 5, 7, 11, 13, 17, 19, 23, 29, '\n",
      "         '31, 37, 41, 43, and 47. Their sum is 326.\\n'}\n",
      "-----\n"
     ]
    }
   ],
   "source": [
    "from pprint import pprint\n",
    "\n",
    "config = types.GenerateContentConfig(\n",
    "    tools=[types.Tool(code_execution=types.ToolCodeExecution())],\n",
    ")\n",
    "\n",
    "code_exec_prompt = \"\"\"\n",
    "Generate the first 14 odd prime numbers, then calculate their sum.\n",
    "\"\"\"\n",
    "\n",
    "response = client.models.generate_content(\n",
    "    model='gemini-2.0-flash',\n",
    "    config=config,\n",
    "    contents=code_exec_prompt)\n",
    "\n",
    "for part in response.candidates[0].content.parts:\n",
    "  pprint(part.to_json_dict())\n",
    "  print(\"-----\")"
   ]
  },
  {
   "cell_type": "markdown",
   "id": "50e9bb38",
   "metadata": {
    "id": "ZspT1GSkjG6d",
    "papermill": {
     "duration": 0.014861,
     "end_time": "2025-03-31T15:57:08.299301",
     "exception": false,
     "start_time": "2025-03-31T15:57:08.284440",
     "status": "completed"
    },
    "tags": []
   },
   "source": [
    "This response contains multiple parts, including an opening and closing text part that represent regular responses, an `executable_code` part that represents generated code and a `code_execution_result` part that represents the results from running the generated code.\n",
    "\n",
    "You can explore them individually."
   ]
  },
  {
   "cell_type": "code",
   "execution_count": 31,
   "id": "301bb71c",
   "metadata": {
    "execution": {
     "iopub.execute_input": "2025-03-31T15:57:08.330142Z",
     "iopub.status.busy": "2025-03-31T15:57:08.329729Z",
     "iopub.status.idle": "2025-03-31T15:57:08.344590Z",
     "shell.execute_reply": "2025-03-31T15:57:08.343376Z"
    },
    "papermill": {
     "duration": 0.03317,
     "end_time": "2025-03-31T15:57:08.346986",
     "exception": false,
     "start_time": "2025-03-31T15:57:08.313816",
     "status": "completed"
    },
    "tags": []
   },
   "outputs": [
    {
     "data": {
      "text/markdown": [
       "Okay, I can do that. First, I'll generate the first 14 odd prime numbers. Recall that a prime number is a natural number greater than 1 that has no positive divisors other than 1 and itself. The first few prime numbers are 2, 3, 5, 7, 11, and so on. Since we need *odd* prime numbers, we will start after 2. Then, I'll calculate their sum using a python code block.\n",
       "\n"
      ],
      "text/plain": [
       "<IPython.core.display.Markdown object>"
      ]
     },
     "metadata": {},
     "output_type": "display_data"
    },
    {
     "data": {
      "text/markdown": [
       "```python\n",
       "primes = [3, 5, 7, 11, 13, 17, 19, 23, 29, 31, 37, 41, 43, 47]\n",
       "sum_of_primes = sum(primes)\n",
       "print(f'{sum_of_primes=}')\n",
       "\n",
       "```"
      ],
      "text/plain": [
       "<IPython.core.display.Markdown object>"
      ]
     },
     "metadata": {},
     "output_type": "display_data"
    },
    {
     "data": {
      "text/markdown": [
       "```\n",
       "sum_of_primes=326\n",
       "\n",
       "```"
      ],
      "text/plain": [
       "<IPython.core.display.Markdown object>"
      ]
     },
     "metadata": {},
     "output_type": "display_data"
    },
    {
     "data": {
      "text/markdown": [
       "The first 14 odd prime numbers are 3, 5, 7, 11, 13, 17, 19, 23, 29, 31, 37, 41, 43, and 47. Their sum is 326.\n"
      ],
      "text/plain": [
       "<IPython.core.display.Markdown object>"
      ]
     },
     "metadata": {},
     "output_type": "display_data"
    }
   ],
   "source": [
    "for part in response.candidates[0].content.parts:\n",
    "    if part.text:\n",
    "        display(Markdown(part.text))\n",
    "    elif part.executable_code:\n",
    "        display(Markdown(f'```python\\n{part.executable_code.code}\\n```'))\n",
    "    elif part.code_execution_result:\n",
    "        if part.code_execution_result.outcome != 'OUTCOME_OK':\n",
    "            display(Markdown(f'## Status {part.code_execution_result.outcome}'))\n",
    "\n",
    "        display(Markdown(f'```\\n{part.code_execution_result.output}\\n```'))"
   ]
  },
  {
   "cell_type": "markdown",
   "id": "2e33c34f",
   "metadata": {
    "id": "1gUX8QzCj4d5",
    "papermill": {
     "duration": 0.015456,
     "end_time": "2025-03-31T15:57:08.377756",
     "exception": false,
     "start_time": "2025-03-31T15:57:08.362300",
     "status": "completed"
    },
    "tags": []
   },
   "source": [
    "### Explaining code\n",
    "\n",
    "The Gemini family of models can explain code to you too. In this example, you pass a [bash script](https://github.com/magicmonty/bash-git-prompt) and ask some questions.\n",
    "\n",
    "<table align=left>\n",
    "  <td>\n",
    "    <a target=\"_blank\" href=\"https://aistudio.google.com/prompts/1N7LGzWzCYieyOf_7bAG4plrmkpDNmUyb\"><img src=\"https://ai.google.dev/site-assets/images/marketing/home/icon-ais.png\" style=\"height: 24px\" height=24/> Open in AI Studio</a>\n",
    "  </td>\n",
    "</table>"
   ]
  },
  {
   "cell_type": "code",
   "execution_count": 32,
   "id": "467818ac",
   "metadata": {
    "execution": {
     "iopub.execute_input": "2025-03-31T15:57:08.411471Z",
     "iopub.status.busy": "2025-03-31T15:57:08.411131Z",
     "iopub.status.idle": "2025-03-31T15:57:10.608000Z",
     "shell.execute_reply": "2025-03-31T15:57:10.606299Z"
    },
    "id": "7_jPMMoxkIEb",
    "papermill": {
     "duration": 2.216761,
     "end_time": "2025-03-31T15:57:10.610320",
     "exception": false,
     "start_time": "2025-03-31T15:57:08.393559",
     "status": "completed"
    },
    "tags": []
   },
   "outputs": [
    {
     "data": {
      "text/markdown": [
       "This file is a **Bash/Zsh script designed to enhance your command-line prompt with information about the Git repository you're currently in.** It provides visual cues about the branch, status of your working directory (staged, unstaged changes, untracked files), and relation to remote branches.\n",
       "\n",
       "Here's a breakdown:\n",
       "\n",
       "*   **What it is:** A collection of shell functions and configuration settings that, when sourced (executed) in your `.bashrc` or `.zshrc` file, modifies how your command prompt looks.\n",
       "*   **Why you would use it:**\n",
       "\n",
       "    *   **Git Status at a Glance:**  Quickly see the state of your Git repository without running `git status` all the time.\n",
       "    *   **Improved Workflow:**  The visual cues help you keep track of changes, branches, and remote status, making it easier to manage your Git workflow.\n",
       "    *   **Customization:** Offers options to customize the colors, symbols, and information displayed in the prompt.  You can define different \"themes\" to tailor the prompt to your preferences.\n",
       "    *   **Virtual Environment awareness**: displays if you are inside a `virtualenv` , `node virtualenv` or `conda` environment.\n",
       "\n",
       "In essence, it's a productivity tool for developers who frequently work with Git. It surfaces essential Git information directly in the prompt, saving time and improving awareness of the repository's state."
      ],
      "text/plain": [
       "<IPython.core.display.Markdown object>"
      ]
     },
     "execution_count": 32,
     "metadata": {},
     "output_type": "execute_result"
    }
   ],
   "source": [
    "file_contents = !curl https://raw.githubusercontent.com/magicmonty/bash-git-prompt/refs/heads/master/gitprompt.sh\n",
    "\n",
    "explain_prompt = f\"\"\"\n",
    "Please explain what this file does at a very high level. What is it, and why would I use it?\n",
    "\n",
    "```\n",
    "{file_contents}\n",
    "```\n",
    "\"\"\"\n",
    "\n",
    "response = client.models.generate_content(\n",
    "    model='gemini-2.0-flash',\n",
    "    contents=explain_prompt)\n",
    "\n",
    "Markdown(response.text)"
   ]
  },
  {
   "cell_type": "markdown",
   "id": "ee24bdc7",
   "metadata": {
    "id": "2a8266d97ce5",
    "papermill": {
     "duration": 0.016204,
     "end_time": "2025-03-31T15:57:10.643361",
     "exception": false,
     "start_time": "2025-03-31T15:57:10.627157",
     "status": "completed"
    },
    "tags": []
   },
   "source": [
    "## Learn more\n",
    "\n",
    "To learn more about prompting in depth:\n",
    "\n",
    "* Check out the whitepaper issued with today's content,\n",
    "* Try out the apps listed at the top of this notebook ([TextFX](https://textfx.withgoogle.com/), [SQL Talk](https://sql-talk-r5gdynozbq-uc.a.run.app/) and [NotebookLM](https://notebooklm.google/)),\n",
    "* Read the [Introduction to Prompting](https://ai.google.dev/gemini-api/docs/prompting-intro) from the Gemini API docs,\n",
    "* Explore the Gemini API's [prompt gallery](https://ai.google.dev/gemini-api/prompts) and try them out in AI Studio,\n",
    "* Check out the Gemini API cookbook for [inspirational examples](https://github.com/google-gemini/cookbook/blob/main/examples/) and [educational quickstarts](https://github.com/google-gemini/cookbook/blob/main/quickstarts/).\n",
    "\n",
    "Be sure to check out the codelabs on day 3 too, where you will explore some more advanced prompting with code execution.\n",
    "\n",
    "And please share anything exciting you have tried in the Discord!\n",
    "\n",
    "*- [Mark McD](https://linktr.ee/markmcd)*"
   ]
  }
 ],
 "metadata": {
  "colab": {
   "name": "day-1-prompting.ipynb",
   "toc_visible": true
  },
  "kaggle": {
   "accelerator": "none",
   "dataSources": [],
   "dockerImageVersionId": 30786,
   "isGpuEnabled": false,
   "isInternetEnabled": true,
   "language": "python",
   "sourceType": "notebook"
  },
  "kernelspec": {
   "display_name": "Python 3",
   "language": "python",
   "name": "python3"
  },
  "language_info": {
   "codemirror_mode": {
    "name": "ipython",
    "version": 3
   },
   "file_extension": ".py",
   "mimetype": "text/x-python",
   "name": "python",
   "nbconvert_exporter": "python",
   "pygments_lexer": "ipython3",
   "version": "3.10.14"
  },
  "papermill": {
   "default_parameters": {},
   "duration": 133.564695,
   "end_time": "2025-03-31T15:57:11.383284",
   "environment_variables": {},
   "exception": null,
   "input_path": "__notebook__.ipynb",
   "output_path": "__notebook__.ipynb",
   "parameters": {},
   "start_time": "2025-03-31T15:54:57.818589",
   "version": "2.6.0"
  }
 },
 "nbformat": 4,
 "nbformat_minor": 5
}
